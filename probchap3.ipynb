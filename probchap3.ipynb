{
 "cells": [
  {
   "cell_type": "markdown",
   "metadata": {},
   "source": [
    "# 1\n",
    "\n",
    "จงเขียนโปรแกรมตรวจสอบหาเลขคู่ เลขคี่จากตัวเลขที่ผู้ใช้ป้อน โดย\n",
    "- หากผู้ใช้ป้อนเลขศูนย์ ให้แสดงคำว่า Zero\n",
    "- หากผู้ใช้ป้อนเลขคู่ให้แสดงข้อความ Even number\n",
    "- หากผู้ใช้ป้อนเลขคี่ให้แสดงข้อความ Odd number"
   ]
  },
  {
   "cell_type": "code",
   "execution_count": 5,
   "metadata": {},
   "outputs": [
    {
     "name": "stdout",
     "output_type": "stream",
     "text": [
      "Number: 0\n",
      "0 is zero\n"
     ]
    }
   ],
   "source": [
    "a = int(input(\"Number: \"))\n",
    "if a == 0:\n",
    "    print(a, \"is zero\")\n",
    "else:\n",
    "    if a % 2 == 0:\n",
    "        print(a, \"is even number\")\n",
    "    else:\n",
    "        print(a, \"is odd number\")"
   ]
  },
  {
   "cell_type": "markdown",
   "metadata": {},
   "source": [
    "# 2\n",
    "\n",
    "จงเขียนโปรแกรมแสดงสภาวะน้ำหนัก\n",
    "\n",
    "โดยให้ใส่ค่าน้ำหนักและส่วนสูง(เมตร) แล้วคำนวณค่า BMI โดย\n",
    "* หาก BMI มากกว่า 25 ขึ้นไป ให้แสดงข้อความว่า FAT\n",
    "* หาก BMI มากกว่าหรือเท่ากับ 20 ถึง 25 ให้แสดงข้อความว่า FIRM\n",
    "* หาก BMI ต่ำกว่า 20 ให้แสดงข้อความว่า SLIM"
   ]
  },
  {
   "cell_type": "code",
   "execution_count": 8,
   "metadata": {},
   "outputs": [
    {
     "name": "stdout",
     "output_type": "stream",
     "text": [
      "your height (kg) : 80\n",
      "your weight (cm) : 170\n",
      "BMI =  27.68166089965398\n",
      "BMI = 27.68\n"
     ]
    }
   ],
   "source": [
    "height = int(input(\"your height (kg) : \"))\n",
    "weight = int(input(\"your weight (cm) : \"))\n",
    "BMI = height / (weight/100)**2\n",
    "print(\"BMI = \", BMI)\n",
    "print(\"BMI = {:0.2f}\".format(BMI))"
   ]
  },
  {
   "cell_type": "code",
   "execution_count": 9,
   "metadata": {},
   "outputs": [
    {
     "name": "stdout",
     "output_type": "stream",
     "text": [
      "FAT\n"
     ]
    }
   ],
   "source": [
    "if (BMI>25):\n",
    "    print(\"FAT\")\n",
    "elif (BMI>= 20):\n",
    "    print(\"FIRM\")\n",
    "else:\n",
    "    print(\"SLIM\")\n"
   ]
  },
  {
   "cell_type": "markdown",
   "metadata": {},
   "source": [
    "# 3\n",
    "จงเขียนโปรแกรมรับค่าจำนวนจริงมา 3 ค่าแล้วแสดงค่าที่มากที่สุด\n",
    "และค่าที่น้อยที่สุด"
   ]
  },
  {
   "cell_type": "code",
   "execution_count": 11,
   "metadata": {},
   "outputs": [
    {
     "name": "stdout",
     "output_type": "stream",
     "text": [
      "number 1: 1\n",
      "number 2: 20\n",
      "number 3: 30\n",
      "min =  1.0\n"
     ]
    }
   ],
   "source": [
    "a1 = float(input(\"number 1: \"))\n",
    "a2 = float(input(\"number 2: \"))\n",
    "a3 = float(input(\"number 3: \"))\n",
    "\n",
    "if (a1 >= a2 and a1 >= a3):\n",
    "    print(\"max = \", a1)\n",
    "elif (a1 <= a2 and a1 <= a3):\n",
    "    print(\"min = \", a1)"
   ]
  },
  {
   "cell_type": "code",
   "execution_count": 14,
   "metadata": {},
   "outputs": [
    {
     "name": "stdout",
     "output_type": "stream",
     "text": [
      "value 0 : 1.9\n",
      "value 1 : 10\n",
      "value 2 : 300\n",
      "max =  300.0\n",
      "min =  1.9\n"
     ]
    }
   ],
   "source": [
    "for count in range(3):\n",
    "    value = float(input(\"value \" + str(count) + \" : \"))\n",
    "    if (count == 0):\n",
    "        max = min = value\n",
    "    else:\n",
    "        if value > max:\n",
    "            max = value\n",
    "        if value < min:\n",
    "            min = value\n",
    "\n",
    "print(\"max = \", max)\n",
    "print(\"min = \", min)"
   ]
  },
  {
   "cell_type": "markdown",
   "metadata": {},
   "source": [
    "# 4\n",
    "จงเขียนโปรแกรมคำนวณการคิดเกรด โดยให้รับคะแนนจากผู้ใช้\n",
    "หากคะแนนมีค่า\n",
    "- มากกว่าหรือเท่ากับ 80 ให้แสดงเกรด ‘A’\n",
    "- มากกว่าหรือเท่ากับ 70 ให้แสดงเกรด ‘B’\n",
    "- มากกว่าหรือเท่ากับ 60 ให้แสดงเกรด ‘C’\n",
    "- มากกว่าหรือเท่ากับ 50 ให้แสดงเกรด ‘D’\n",
    "- น้อยกว่า 50 ให้แสดงข้อความว่า fail……………\n",
    "- และไม่ว่าจะได้เกรดอะไรก็ตาม ให้แสดงข้อความ Bye bye....See you again next semester"
   ]
  },
  {
   "cell_type": "code",
   "execution_count": 17,
   "metadata": {},
   "outputs": [
    {
     "name": "stdout",
     "output_type": "stream",
     "text": [
      "คะแนน : 81\n",
      "A\n",
      "Bye bye\n"
     ]
    }
   ],
   "source": [
    "mark = int(input(\"คะแนน : \"))\n",
    "if mark >= 80:\n",
    "    print(\"A\")\n",
    "elif mark >= 70:\n",
    "    print(\"B\")\n",
    "elif mark >= 60:\n",
    "    print(\"C\")\n",
    "elif mark >= 50:\n",
    "    print(\"D\")\n",
    "else:\n",
    "    print(\"fail\")\n",
    "print(\"Bye bye\")"
   ]
  },
  {
   "cell_type": "markdown",
   "metadata": {},
   "source": [
    "# 5\n",
    "จงเขียนโปรแกรม รับตัวอักษรหนึ่งตัว แล้วตรวจสอบว่าเป็น สระ(vowel) หรือ\n",
    "พยัญชนะ (consonant) สมมติว่าผู้ใช้ใส่เฉพาะตัวอักษร a-z เท่านั้น"
   ]
  },
  {
   "cell_type": "code",
   "execution_count": 26,
   "metadata": {},
   "outputs": [
    {
     "name": "stdout",
     "output_type": "stream",
     "text": [
      "character : >\n",
      "['>']\n",
      ">  is consonant\n"
     ]
    }
   ],
   "source": [
    "string = input(\"character : \")\n",
    "char = list(string.lower())\n",
    "print(char)\n",
    "c = char[0]\n",
    "if (c >= '0' and c <= '9'):\n",
    "    print(c, \" is a number\")\n",
    "elif (c == 'a' or c == 'e' or c == 'i' or c == 'o' or c == 'u'):\n",
    "    print(c, \" is vowel\")\n",
    "else:\n",
    "    print(c, \" is consonant\")\n"
   ]
  },
  {
   "cell_type": "markdown",
   "metadata": {},
   "source": [
    "# 6\n",
    "จงเขียนโปรแกรมแสดงประเภทของนักศึกษา\n",
    "โดยโปรแกรมจะรอรับค่าชั้นปีของนักศึกษา\n",
    "- หากเป็น 1 ให้แสดงข้อความ You are freshment\n",
    "- หากเป็น 2 ให้แสดงข้อความ You are sophomore\n",
    "- หากเป็น 3 ให้แสดงข้อความ You are junior\n",
    "- หากเป็น 4 ให้แสดงข้อความ You are senior\n",
    "- หากเป็นค่าอื่นๆ ให้แสดงข้อความ Invalid year"
   ]
  },
  {
   "cell_type": "code",
   "execution_count": 30,
   "metadata": {},
   "outputs": [
    {
     "name": "stdout",
     "output_type": "stream",
     "text": [
      "ปีที่ นศ. เรียนอยู่ : 1\n",
      "You are freshman\n"
     ]
    }
   ],
   "source": [
    "year = input(\"ปีที่ นศ. เรียนอยู่ : \")\n",
    "if (year == '1'):\n",
    "    print(\"You are freshman\")\n",
    "elif (year == '2'):\n",
    "    print(\"You are sphomore\")\n",
    "elif (year == '3'):\n",
    "    print(\"You are junior\")\n",
    "elif (year == '4'):\n",
    "    print(\"You are senior\")\n",
    "else:\n",
    "    print(\"Invalid year\")"
   ]
  },
  {
   "cell_type": "markdown",
   "metadata": {},
   "source": [
    "# 7\n",
    "\n",
    "จงเขียนโปรแกรมสำหรับคำนวณปริมาตร หรือ\n",
    "พื้นที่ผิวทรงกลมโดยรับค่ารัศมีเป็นจำนวนเต็มจากผู้ใช้\n",
    "- หากผู้ใช้ป้อนรัศมีเป็น 0 ให้แสดงข้อความ Zero radius\n",
    "- หากผู้ใช้ป้อนรัศมีเป็นค่าติดลบให้แสดงข้อความ Negative radius\n",
    "- หากผู้ใช้ป้อนรัศมีเป็นค่าจำนวนเต็มบวก โปรแกรมจะถามว่าต้องการคำนวณปริมาตรหรือพื้นที่ผิวทรงกลม\n",
    "\n",
    "\n",
    "- หากผู้ใช้ป้อนค่า 1\n",
    "โปรแกรมจะคำนวณและแสดงปริมาตรทรงกลมทางหน้าจอจากสูตร v = 4/3*π*r^3\n",
    "- หากผู้ใช้ป้อนค่า 2\n",
    "โปรแกรมจะคำนวณและแสดงพื้นที่ผิวทรงกลมทางหน้าจอจากสูตร "
   ]
  },
  {
   "cell_type": "code",
   "execution_count": 34,
   "metadata": {},
   "outputs": [
    {
     "name": "stdout",
     "output_type": "stream",
     "text": [
      "radius : 10\n",
      "volume =  4186.666666666667\n",
      "surface area =  1256.0\n"
     ]
    }
   ],
   "source": [
    "pi = 3.14\n",
    "radius = float(input(\"radius : \"))\n",
    "volume = (4/3)*pi*radius**3\n",
    "surface_area = 4*pi*radius**2\n",
    "print(\"volume = \", volume)\n",
    "print(\"surface area = \", surface_area)"
   ]
  },
  {
   "cell_type": "code",
   "execution_count": null,
   "metadata": {},
   "outputs": [],
   "source": []
  }
 ],
 "metadata": {
  "kernelspec": {
   "display_name": "Python 3",
   "language": "python",
   "name": "python3"
  },
  "language_info": {
   "codemirror_mode": {
    "name": "ipython",
    "version": 3
   },
   "file_extension": ".py",
   "mimetype": "text/x-python",
   "name": "python",
   "nbconvert_exporter": "python",
   "pygments_lexer": "ipython3",
   "version": "3.7.3"
  }
 },
 "nbformat": 4,
 "nbformat_minor": 2
}
