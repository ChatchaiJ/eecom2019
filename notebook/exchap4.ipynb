{
 "cells": [
  {
   "cell_type": "markdown",
   "metadata": {},
   "source": [
    "# factorial"
   ]
  },
  {
   "cell_type": "code",
   "execution_count": 1,
   "metadata": {},
   "outputs": [
    {
     "name": "stdout",
     "output_type": "stream",
     "text": [
      "factorial of : 10\n",
      "factorial of  10  =  3628800\n"
     ]
    }
   ],
   "source": [
    "n = int(input(\"factorial of : \"))\n",
    "fac = 1\n",
    "for i in range(n):\n",
    "    fac *= i+1\n",
    "print(\"factorial of \", n, \" = \", fac)"
   ]
  },
  {
   "cell_type": "code",
   "execution_count": 2,
   "metadata": {},
   "outputs": [
    {
     "name": "stdout",
     "output_type": "stream",
     "text": [
      "factorial of : 5\n",
      "5 ! =  120\n"
     ]
    }
   ],
   "source": [
    "def fac(i):\n",
    "    if i==1:\n",
    "        return 1\n",
    "    else:\n",
    "        return i*fac(i-1)\n",
    "    \n",
    "n = int(input(\"factorial of : \"))\n",
    "print(n, \"! = \", fac(n))"
   ]
  },
  {
   "cell_type": "code",
   "execution_count": 4,
   "metadata": {},
   "outputs": [
    {
     "name": "stdout",
     "output_type": "stream",
     "text": [
      "factorial of : 5\n",
      "5 ! =  5x4x3x2x1\n"
     ]
    }
   ],
   "source": [
    "def fac(i):\n",
    "    if i==1:\n",
    "        return \"1\"\n",
    "    else:\n",
    "        return str(i) + \"x\" + fac(i-1)\n",
    "    \n",
    "n = int(input(\"factorial of : \"))\n",
    "print(n, \"! = \", fac(n))"
   ]
  },
  {
   "cell_type": "code",
   "execution_count": 8,
   "metadata": {},
   "outputs": [
    {
     "name": "stdout",
     "output_type": "stream",
     "text": [
      "\n",
      "Please select one of these\n",
      "a. coffee\n",
      "b. tea\n",
      "c. milk\n",
      "d. water\n",
      "e. exit\n",
      "d\n",
      "\n",
      "Please select one of these\n",
      "a. coffee\n",
      "b. tea\n",
      "c. milk\n",
      "d. water\n",
      "e. exit\n",
      "e\n",
      "water =  1\n"
     ]
    }
   ],
   "source": [
    "menu = \"\"\"\n",
    "Please select one of these\n",
    "a. coffee\n",
    "b. tea\n",
    "c. milk\n",
    "d. water\n",
    "e. exit\n",
    "\"\"\"\n",
    "\n",
    "coffee = 0\n",
    "tea = 0\n",
    "milk = 0\n",
    "water = 0\n",
    "\n",
    "while True:\n",
    "    c = input(menu)\n",
    "    if (c == 'a'):\n",
    "        coffee += 1\n",
    "    elif (c == 'b'):\n",
    "        tea += 1\n",
    "    elif (c == 'c'):\n",
    "        milk += 1\n",
    "    elif (c == 'd'):\n",
    "        water += 1\n",
    "    elif (c == 'e'):\n",
    "        break\n",
    "\n",
    "if (coffee > 0):\n",
    "    print(\"coffee = \", coffee)\n",
    "if (tea > 0):\n",
    "    print(\"tea = \", tea)\n",
    "if (milk > 0):\n",
    "    print(\"milk = \", milk)\n",
    "if (water > 0):\n",
    "    print(\"water = \", water)\n"
   ]
  },
  {
   "cell_type": "code",
   "execution_count": 20,
   "metadata": {},
   "outputs": [
    {
     "name": "stdout",
     "output_type": "stream",
     "text": [
      "{'a': 'coffee', 'b': 'tea', 'c': 'milk', 'd': 'water', 'e': 'exit'}\n"
     ]
    }
   ],
   "source": [
    "selections = [\"coffee\", \"tea\", \"milk\", \"water\", \"exit\"]\n",
    "count = {}\n",
    "for s in selections:\n",
    "    count[s] = 0\n",
    "index = {}\n",
    "key = 'a'\n",
    "last = key\n",
    "for s in selections:\n",
    "    index[key] = s\n",
    "    key = chr(ord(key)+1)\n",
    "    last = key\n",
    "print(index)"
   ]
  },
  {
   "cell_type": "code",
   "execution_count": 22,
   "metadata": {},
   "outputs": [
    {
     "name": "stdout",
     "output_type": "stream",
     "text": [
      "a: coffee\n",
      "b: tea\n",
      "c: milk\n",
      "d: water\n",
      "e: exit\n"
     ]
    }
   ],
   "source": [
    "for key in index:\n",
    "    print(\"{}: {}\".format(key, index[key]))"
   ]
  },
  {
   "cell_type": "code",
   "execution_count": 25,
   "metadata": {},
   "outputs": [
    {
     "name": "stdout",
     "output_type": "stream",
     "text": [
      "a: coffee\n",
      "b: tea\n",
      "c: milk\n",
      "d: water\n",
      "e: exit\n",
      "select : a\n",
      "a: coffee\n",
      "b: tea\n",
      "c: milk\n",
      "d: water\n",
      "e: exit\n",
      "select : b\n",
      "a: coffee\n",
      "b: tea\n",
      "c: milk\n",
      "d: water\n",
      "e: exit\n",
      "select : e\n",
      "coffee: 1\n",
      "tea: 1\n"
     ]
    }
   ],
   "source": [
    "while True:\n",
    "    for key in index:\n",
    "        print(\"{}: {}\".format(key, index[key]))\n",
    "    s = input(\"select : \")\n",
    "    if (ord(s) >= ord(last)):\n",
    "        print(\"invalid choice\")\n",
    "        continue\n",
    "        \n",
    "    choose = index[s]\n",
    "    if (choose == 'exit'):\n",
    "        break\n",
    "    else:\n",
    "        count[choose] += 1\n",
    "\n",
    "for key in count:\n",
    "    if count[key] > 0:\n",
    "        print(\"{}: {}\".format(key,count[key]))"
   ]
  }
 ],
 "metadata": {
  "kernelspec": {
   "display_name": "Python 3",
   "language": "python",
   "name": "python3"
  },
  "language_info": {
   "codemirror_mode": {
    "name": "ipython",
    "version": 3
   },
   "file_extension": ".py",
   "mimetype": "text/x-python",
   "name": "python",
   "nbconvert_exporter": "python",
   "pygments_lexer": "ipython3",
   "version": "3.7.3"
  }
 },
 "nbformat": 4,
 "nbformat_minor": 2
}
