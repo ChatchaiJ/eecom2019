{
 "cells": [
  {
   "cell_type": "markdown",
   "metadata": {},
   "source": [
    "# 1\n",
    "จงเขียนโปรแกรมหาค่าปริมาตรของกล่อง(C) โดยรับค่าความกว้าง(w)\n",
    "\n",
    "ความยาว(l) และความสูง(h) จากผู้ใช้\n",
    "\n",
    "กำหนดให้ส่วนที่ใช้ในการคำนวณค่าปริมาตรของกล่องอยู่ในฟังก์ชัน\n",
    "\n",
    "Capacity ซึ่งเป็นฟังก์ชันที่รับค่าและส่งค่ากลับมาแสดงผลในโปรแกรมหลัก\n",
    "\n",
    "สูตรการหาปริมาตรของกล่องคำนวณจาก w*l*h"
   ]
  },
  {
   "cell_type": "code",
   "execution_count": 4,
   "metadata": {},
   "outputs": [
    {
     "name": "stdout",
     "output_type": "stream",
     "text": [
      "find volume\n",
      "width : 1\n",
      "length : 2\n",
      "height : 3\n",
      "capacity of box size ( 1.0 , 2.0 , 3.0 ) =  6.0\n"
     ]
    }
   ],
   "source": [
    "def capacity(w,l,h):\n",
    "    return w*l*h\n",
    "\n",
    "print(\"find volume\")\n",
    "w = float(input(\"width : \"))\n",
    "l = float(input(\"length : \"))\n",
    "h = float(input(\"height : \"))\n",
    "\n",
    "c = capacity(w,l,h)\n",
    "\n",
    "print(\"capacity of box size (\", w, \",\", l, \",\", h, \") = \", c)"
   ]
  },
  {
   "cell_type": "markdown",
   "metadata": {},
   "source": [
    "# 2\n",
    "จงเขียนโปรแกรมแสดงผลเกรดของนักศึกษาโดยให้รับค่าคะแนนของนักศึกษา\n",
    "\n",
    "ในโปรแกรมหลักคำนวณหาเกรดในฟังก์ชัน\n",
    "\n",
    "และแสดงผลเกรดในโปรแกรมหลัก"
   ]
  },
  {
   "cell_type": "code",
   "execution_count": 6,
   "metadata": {},
   "outputs": [
    {
     "name": "stdout",
     "output_type": "stream",
     "text": [
      "grade of mark 75 =  C\n"
     ]
    }
   ],
   "source": [
    "def grade(mark):\n",
    "    if mark > 80:\n",
    "        return 'A'\n",
    "    elif mark > 80:\n",
    "        return 'B'\n",
    "    elif mark > 60:\n",
    "        return 'C'\n",
    "    elif mark > 50:\n",
    "        return 'D'\n",
    "    else:\n",
    "        return 'F'\n",
    "    \n",
    "print(\"grade of mark 75 = \", grade(75))"
   ]
  }
 ],
 "metadata": {
  "kernelspec": {
   "display_name": "Python 3",
   "language": "python",
   "name": "python3"
  },
  "language_info": {
   "codemirror_mode": {
    "name": "ipython",
    "version": 3
   },
   "file_extension": ".py",
   "mimetype": "text/x-python",
   "name": "python",
   "nbconvert_exporter": "python",
   "pygments_lexer": "ipython3",
   "version": "3.7.3"
  }
 },
 "nbformat": 4,
 "nbformat_minor": 2
}
