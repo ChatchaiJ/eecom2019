{
 "cells": [
  {
   "cell_type": "markdown",
   "metadata": {},
   "source": [
    "# 1\n",
    "จงเขียนโปรแกรมหาค่าพื้นที่ของวงกลม(A) โดยรับค่ารัศมี(r)จากผู้ใช้\n",
    "กำหนดให้ส่วนที่ใช้ในการคำนวณค่าพื้นที่ของวงกลมอยู่ในฟังก์ชัน\n",
    "CircleArea ซึ่งเป็นฟังก์ชันที่รับค่าและส่งค่ากลับมาแสดงผลในโปรแกรมหลัก\n",
    "สูตรการหาพื้นที่ของวงกลมคำนวณจาก pi*r*r เมื่อ pi = 3.1416"
   ]
  },
  {
   "cell_type": "code",
   "execution_count": 6,
   "metadata": {},
   "outputs": [
    {
     "name": "stdout",
     "output_type": "stream",
     "text": [
      "area of circle with radius =  2  is  12.56636\n"
     ]
    }
   ],
   "source": [
    "PI = 3.14159\n",
    "\n",
    "def circleArea(r):\n",
    "    return PI*r**2\n",
    "\n",
    "print(\"area of circle with radius = \", 2, \" is \", circleArea(2))"
   ]
  },
  {
   "cell_type": "markdown",
   "metadata": {},
   "source": [
    "# 2\n",
    "เขียนโปรแกรมหาค่าเฉลี่ยของคะแนนของนักศึกษาจำนวน 10\n",
    "\n",
    "คนโดยให้รับค่าคะแนนของนักศึกษาในโปรแกรมหลัก\n",
    "\n",
    "คำนวณหาค่าเฉลี่ยในฟังก์ชัน และแสดงผลค่าเฉลี่ยในโปรแกรมหลัก"
   ]
  },
  {
   "cell_type": "markdown",
   "metadata": {},
   "source": [
    "เริ่มจากการเขียนฟังก์ชัน ของ python"
   ]
  },
  {
   "cell_type": "code",
   "execution_count": 10,
   "metadata": {},
   "outputs": [
    {
     "name": "stdout",
     "output_type": "stream",
     "text": [
      "5.0\n"
     ]
    }
   ],
   "source": [
    "def average(l):\n",
    "    sum = 0\n",
    "    for mark in l:\n",
    "        sum += mark\n",
    "    avg = sum/len(l)\n",
    "    return avg\n",
    "\n",
    "student_marks = [10,9, 8,7,6,5,4,3,2,1,0]\n",
    "a = average(student_marks)\n",
    "print(a)"
   ]
  },
  {
   "cell_type": "code",
   "execution_count": 2,
   "metadata": {},
   "outputs": [
    {
     "name": "stdout",
     "output_type": "stream",
     "text": [
      "คะแนนของ นศ. 1 = 1\n",
      "[1.0]\n",
      "คะแนนของ นศ. 2 = 2\n",
      "[1.0, 2.0]\n",
      "คะแนนของ นศ. 3 = 3\n",
      "[1.0, 2.0, 3.0]\n",
      "คะแนนของ นศ. 4 = 4\n",
      "[1.0, 2.0, 3.0, 4.0]\n",
      "คะแนนของ นศ. 5 = 5\n",
      "[1.0, 2.0, 3.0, 4.0, 5.0]\n",
      "คะแนนของ นศ. 6 = 6\n",
      "[1.0, 2.0, 3.0, 4.0, 5.0, 6.0]\n",
      "คะแนนของ นศ. 7 = 7\n",
      "[1.0, 2.0, 3.0, 4.0, 5.0, 6.0, 7.0]\n",
      "คะแนนของ นศ. 8 = 8\n",
      "[1.0, 2.0, 3.0, 4.0, 5.0, 6.0, 7.0, 8.0]\n",
      "คะแนนของ นศ. 9 = 9\n",
      "[1.0, 2.0, 3.0, 4.0, 5.0, 6.0, 7.0, 8.0, 9.0]\n",
      "คะแนนของ นศ. 10 = 0\n",
      "[1.0, 2.0, 3.0, 4.0, 5.0, 6.0, 7.0, 8.0, 9.0, 0.0]\n"
     ]
    }
   ],
   "source": [
    "student_marks = []\n",
    "for i in range(10):\n",
    "    mesg = \"คะแนนของ นศ. {} = \".format(i+1)\n",
    "    mark = float(input(mesg))\n",
    "    student_marks.append(mark)\n",
    "    print(student_marks)"
   ]
  },
  {
   "cell_type": "code",
   "execution_count": 8,
   "metadata": {},
   "outputs": [
    {
     "name": "stdout",
     "output_type": "stream",
     "text": [
      "[10, 9, 8, 7, 6, 5, 4, 3, 2, 1, 0]\n"
     ]
    }
   ],
   "source": [
    "print(student_marks)"
   ]
  },
  {
   "cell_type": "code",
   "execution_count": 11,
   "metadata": {},
   "outputs": [
    {
     "name": "stdout",
     "output_type": "stream",
     "text": [
      "5.0\n"
     ]
    }
   ],
   "source": [
    "a=average(student_marks)\n",
    "print(a)"
   ]
  },
  {
   "cell_type": "markdown",
   "metadata": {},
   "source": [
    "# 3\n",
    "ดัดแปลงโปรแกรมในข้อ 2\n",
    "\n",
    "ให้รับคะแนนของนักศึกษากี่คนก็ได้ตามที่กำหนด\n",
    "\n",
    "แล้วแสดงคะแนนของนักศึกษาเป็น\n",
    "- กราฟเส้น\n",
    "- แผนภูมิแท่ง\n",
    "- ขั้นบันได"
   ]
  },
  {
   "cell_type": "code",
   "execution_count": 12,
   "metadata": {},
   "outputs": [
    {
     "name": "stdout",
     "output_type": "stream",
     "text": [
      "คะแนนของ นศ. 1 = 1\n",
      "[1.0]\n",
      "คะแนนของ นศ. 2 = 2\n",
      "[1.0, 2.0]\n",
      "คะแนนของ นศ. 3 = -1\n",
      "[1.0, 2.0, -1.0]\n",
      "คะแนนของ นศ. 4 = -99\n"
     ]
    }
   ],
   "source": [
    "student_marks = []\n",
    "i = 0\n",
    "while True:\n",
    "    i=i+1\n",
    "    mesg = \"คะแนนของ นศ. {} = \".format(i)\n",
    "    mark = float(input(mesg))\n",
    "    if mark == -99:\n",
    "        break\n",
    "    student_marks.append(mark)\n",
    "    print(student_marks)"
   ]
  },
  {
   "cell_type": "code",
   "execution_count": 20,
   "metadata": {},
   "outputs": [
    {
     "name": "stdout",
     "output_type": "stream",
     "text": [
      "[0, 1, 2, 3, 4, 5, 6, 7, 8, 9, 10, 11]\n",
      "[8, 7, 7.5, 9, 6.5, 8.5, 7, 8, 6.5, 9, 10, 5.5]\n"
     ]
    },
    {
     "data": {
      "image/png": "[encoded data removed]",
      "text/plain": [
       "<Figure size 432x288 with 1 Axes>"
      ]
     },
     "metadata": {
      "needs_background": "light"
     },
     "output_type": "display_data"
    }
   ],
   "source": [
    "import numpy as np\n",
    "import matplotlib.pyplot as plt\n",
    "\n",
    "student_marks = [8, 7, 7.5, 9, 6.5, 8.5, 7, 8, 6.5, 9, 10, 5.5]\n",
    "student_no = range(len(student_marks))\n",
    "\n",
    "print(list(student_no))\n",
    "print(student_marks)\n",
    "\n",
    "plt.ylabel('marks')\n",
    "plt.xlabel('student')\n",
    "\n",
    "plt.plot(student_no, student_marks)\n",
    "plt.show()"
   ]
  },
  {
   "cell_type": "code",
   "execution_count": 22,
   "metadata": {},
   "outputs": [
    {
     "data": {
      "image/png": "[encoded data removed]",
      "text/plain": [
       "<Figure size 432x288 with 1 Axes>"
      ]
     },
     "metadata": {
      "needs_background": "light"
     },
     "output_type": "display_data"
    }
   ],
   "source": [
    "plt.plot(student_no, student_marks, 'r-')\n",
    "plt.show()"
   ]
  },
  {
   "cell_type": "code",
   "execution_count": 25,
   "metadata": {},
   "outputs": [
    {
     "data": {
      "image/png": "[encoded data removed]",
      "text/plain": [
       "<Figure size 432x288 with 1 Axes>"
      ]
     },
     "metadata": {
      "needs_background": "light"
     },
     "output_type": "display_data"
    }
   ],
   "source": [
    "plt.bar(student_no, student_marks)\n",
    "plt.show()"
   ]
  },
  {
   "cell_type": "code",
   "execution_count": 29,
   "metadata": {},
   "outputs": [
    {
     "data": {
      "image/png": "[encoded data removed]",
      "text/plain": [
       "<Figure size 432x288 with 1 Axes>"
      ]
     },
     "metadata": {
      "needs_background": "light"
     },
     "output_type": "display_data"
    }
   ],
   "source": [
    "plt.step(student_no, student_marks, 'g')\n",
    "plt.show()"
   ]
  },
  {
   "cell_type": "code",
   "execution_count": null,
   "metadata": {},
   "outputs": [],
   "source": []
  }
 ],
 "metadata": {
  "kernelspec": {
   "display_name": "Python 3",
   "language": "python",
   "name": "python3"
  },
  "language_info": {
   "codemirror_mode": {
    "name": "ipython",
    "version": 3
   },
   "file_extension": ".py",
   "mimetype": "text/x-python",
   "name": "python",
   "nbconvert_exporter": "python",
   "pygments_lexer": "ipython3",
   "version": "3.7.3"
  }
 },
 "nbformat": 4,
 "nbformat_minor": 2
}
