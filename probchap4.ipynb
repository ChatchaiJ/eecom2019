{
 "cells": [
  {
   "cell_type": "markdown",
   "metadata": {},
   "source": [
    "# 1\n",
    "จงเขียนโปรแกรมโดยใช้โครงสร้างการทำซ้ำเพื่อหาตัวเลขจำนวนเต็ม n\n",
    "ค่าน้อยที่สุดที่ทำให้ 2^n >= 10"
   ]
  },
  {
   "cell_type": "code",
   "execution_count": 2,
   "metadata": {},
   "outputs": [
    {
     "name": "stdout",
     "output_type": "stream",
     "text": [
      "n =  4\n"
     ]
    }
   ],
   "source": [
    "n = 1\n",
    "while 2**n < 10:\n",
    "    n += 1\n",
    "print(\"n = \", n)"
   ]
  },
  {
   "cell_type": "markdown",
   "metadata": {},
   "source": [
    "# 2\n",
    "จงเขียนโปรแกรมโดยใช้โครงสร้างการทำซ้ำเพื่อรับค่าตัวเลขจำนวนเต็มจ\n",
    "ากผู้ใช้และหาผลคูณพร้อมทั้งผลบวกของค่าที่ผู้ใช้ป้อน"
   ]
  },
  {
   "cell_type": "code",
   "execution_count": null,
   "metadata": {},
   "outputs": [
    {
     "name": "stdout",
     "output_type": "stream",
     "text": [
      "number : 1\n",
      "summation = 1 multiplication = 1\n",
      "number : 2\n",
      "summation = 3 multiplication = 2\n",
      "number : 3\n",
      "summation = 6 multiplication = 6\n",
      "number : 4\n",
      "summation = 10 multiplication = 24\n",
      "number : 5\n",
      "summation = 15 multiplication = 120\n",
      "number : 6\n",
      "summation = 21 multiplication = 720\n"
     ]
    }
   ],
   "source": [
    "s = 0\n",
    "m = 1\n",
    "\n",
    "while True:\n",
    "    value = int(input(\"number : \"))\n",
    "    s += value\n",
    "    m *= value\n",
    "    print(\"summation = {} multiplication = {}\".format(s,m))"
   ]
  },
  {
   "cell_type": "markdown",
   "metadata": {},
   "source": [
    "# 4\n",
    "จงเขียนโปรแกรมโดยใช้โครงสร้างการทำซ้ำเพื่อรับค่าคะแนนของนักศึกษ\n",
    "าจำนวน 10 คน แล้วแสดงค่าคะแนนเฉลี่ย คะแนนสูงที่สุด\n",
    "และคะแนนน้อยที่สุด"
   ]
  },
  {
   "cell_type": "code",
   "execution_count": 1,
   "metadata": {},
   "outputs": [
    {
     "name": "stdout",
     "output_type": "stream",
     "text": [
      "Student []1] Mark : 8\n",
      "Student []2] Mark : 7\n",
      "Student []3] Mark : 6\n",
      "Student []4] Mark : 8\n",
      "Student []5] Mark : 7\n",
      "Student []6] Mark : 4\n",
      "Student []7] Mark : 9\n",
      "Student []8] Mark : 3\n",
      "Student []9] Mark : 10\n",
      "Student []10] Mark : 7\n",
      "max = 10, min = 3, avg = 6.90\n"
     ]
    }
   ],
   "source": [
    "for i in range(10):\n",
    "    mark = int(input(\"Student [\" + str(i+1) + \"] Mark : \"))\n",
    "    if (i == 0):\n",
    "        max = mark\n",
    "        min = mark\n",
    "        avg = mark\n",
    "    else:\n",
    "        avg += mark\n",
    "        if mark > max:\n",
    "            max = mark\n",
    "        elif mark < min:\n",
    "            min = mark\n",
    "avg /= 10\n",
    "print(\"max = {}, min = {}, avg = {:0.2f}\".format(max, min, avg))"
   ]
  },
  {
   "cell_type": "code",
   "execution_count": null,
   "metadata": {},
   "outputs": [],
   "source": []
  }
 ],
 "metadata": {
  "kernelspec": {
   "display_name": "Python 3",
   "language": "python",
   "name": "python3"
  },
  "language_info": {
   "codemirror_mode": {
    "name": "ipython",
    "version": 3
   },
   "file_extension": ".py",
   "mimetype": "text/x-python",
   "name": "python",
   "nbconvert_exporter": "python",
   "pygments_lexer": "ipython3",
   "version": "3.7.3"
  }
 },
 "nbformat": 4,
 "nbformat_minor": 2
}
