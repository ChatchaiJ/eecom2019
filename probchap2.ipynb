{
 "cells": [
  {
   "cell_type": "code",
   "execution_count": 73,
   "metadata": {},
   "outputs": [],
   "source": [
    "import numpy as np\n",
    "\n",
    "time_minute = [0, 10, 20, 30, 40, 50]\n",
    "temperature_degree_celsius =[0, 5, 15, 20, 40, 60]"
   ]
  },
  {
   "cell_type": "code",
   "execution_count": 74,
   "metadata": {},
   "outputs": [
    {
     "name": "stdout",
     "output_type": "stream",
     "text": [
      "[ 0 10 20 30 40 50]\n",
      "[ 0  5 15 20 40 60]\n"
     ]
    }
   ],
   "source": [
    "time_minute_array = np.array(time_minute)\n",
    "temperature_degree_celsius_array = np.array(temperature_degree_celsius)\n",
    "\n",
    "print(time_minute_array)\n",
    "print(temperature_degree_celsius_array)"
   ]
  },
  {
   "cell_type": "code",
   "execution_count": 75,
   "metadata": {},
   "outputs": [
    {
     "name": "stdout",
     "output_type": "stream",
     "text": [
      "[[0, 10, 20, 30, 40, 50], [0, 5, 15, 20, 40, 60]]\n"
     ]
    }
   ],
   "source": [
    "data = [ time_minute, temperature_degree_celsius ]\n",
    "print(data)"
   ]
  },
  {
   "cell_type": "code",
   "execution_count": 76,
   "metadata": {},
   "outputs": [
    {
     "name": "stdout",
     "output_type": "stream",
     "text": [
      "[[ 0 10 20 30 40 50]\n",
      " [ 0  5 15 20 40 60]]\n"
     ]
    }
   ],
   "source": [
    "data_array = np.array(data)\n",
    "print(data_array)"
   ]
  },
  {
   "cell_type": "code",
   "execution_count": 77,
   "metadata": {},
   "outputs": [
    {
     "name": "stdout",
     "output_type": "stream",
     "text": [
      "[[ 0  0]\n",
      " [10  5]\n",
      " [20 15]\n",
      " [30 20]\n",
      " [40 40]\n",
      " [50 60]]\n"
     ]
    }
   ],
   "source": [
    "data_array_transpose = np.transpose(data_array)\n",
    "print(data_array_transpose)"
   ]
  },
  {
   "cell_type": "code",
   "execution_count": 83,
   "metadata": {},
   "outputs": [
    {
     "name": "stdout",
     "output_type": "stream",
     "text": [
      "[   0  600 1200 1800 2400 3000]\n"
     ]
    }
   ],
   "source": [
    "time_second = np.multiply(60, time_minute)\n",
    "print(time_second)"
   ]
  },
  {
   "cell_type": "code",
   "execution_count": 84,
   "metadata": {},
   "outputs": [
    {
     "name": "stdout",
     "output_type": "stream",
     "text": [
      "[273 278 288 293 313 333]\n"
     ]
    }
   ],
   "source": [
    "temperature_degree_kelvin = np.add(273, temperature_degree_celsius)\n",
    "print(temperature_degree_kelvin)"
   ]
  },
  {
   "cell_type": "code",
   "execution_count": 85,
   "metadata": {},
   "outputs": [
    {
     "name": "stdout",
     "output_type": "stream",
     "text": [
      "[[0, 10, 20, 30, 40, 50], array([   0,  600, 1200, 1800, 2400, 3000]), [0, 5, 15, 20, 40, 60], array([273, 278, 288, 293, 313, 333])]\n"
     ]
    }
   ],
   "source": [
    "data2 = [time_minute, time_second, temperature_degree_celsius, temperature_degree_kelvin]\n",
    "print(data2)"
   ]
  },
  {
   "cell_type": "code",
   "execution_count": 86,
   "metadata": {},
   "outputs": [
    {
     "name": "stdout",
     "output_type": "stream",
     "text": [
      "[[   0   10   20   30   40   50]\n",
      " [   0  600 1200 1800 2400 3000]\n",
      " [   0    5   15   20   40   60]\n",
      " [ 273  278  288  293  313  333]]\n"
     ]
    }
   ],
   "source": [
    "data2_array = np.array(data2)\n",
    "print(data2_array)"
   ]
  },
  {
   "cell_type": "code",
   "execution_count": 87,
   "metadata": {},
   "outputs": [
    {
     "name": "stdout",
     "output_type": "stream",
     "text": [
      "[[   0    0    0  273]\n",
      " [  10  600    5  278]\n",
      " [  20 1200   15  288]\n",
      " [  30 1800   20  293]\n",
      " [  40 2400   40  313]\n",
      " [  50 3000   60  333]]\n"
     ]
    }
   ],
   "source": [
    "data2_array_transpose = np.transpose(data2_array)\n",
    "print(data2_array_transpose)"
   ]
  },
  {
   "cell_type": "code",
   "execution_count": 90,
   "metadata": {},
   "outputs": [],
   "source": [
    "import scipy.io as sio\n",
    "sio.savemat(\"data.mat\", {'data': data2_array_transpose}) "
   ]
  },
  {
   "cell_type": "code",
   "execution_count": 93,
   "metadata": {},
   "outputs": [
    {
     "name": "stdout",
     "output_type": "stream",
     "text": [
      "total 96\r\n",
      "drwxr-xr-x 3 cj cj  4096 Dec  1 01:57  code\r\n",
      "-rw-r--r-- 1 cj cj   376 Feb 21 08:03  data.mat\r\n",
      "-rw-r--r-- 1 cj cj  1479 Dec  1 11:04 'Flip coins.ipynb'\r\n",
      "-rw-r--r-- 1 cj cj  1566 Dec  1 02:02 'Monte Carlo pricing.ipynb'\r\n",
      "-rw-r--r-- 1 cj cj  5735 Feb 21 08:21  probchap2.ipynb\r\n",
      "-rw-r--r-- 1 cj cj   931 Dec  1 01:48  test1.ipynb\r\n",
      "-rw-r--r-- 1 cj cj 23778 Feb 21 06:52  test3.ipynb\r\n",
      "-rw-r--r-- 1 cj cj 10015 Feb 21 07:02  test4.ipynb\r\n",
      "-rw-r--r-- 1 cj cj   688 Feb 17 16:55  test.mat\r\n",
      "-rw-r--r-- 1 cj cj  2057 Feb 17 01:35  Untitled1.ipynb\r\n",
      "-rw-r--r-- 1 cj cj 15404 Feb 21 08:21  Untitled2.ipynb\r\n",
      "-rw-r--r-- 1 cj cj  5301 Feb 20 11:02  Untitled.ipynb\r\n"
     ]
    }
   ],
   "source": [
    "!ls -l "
   ]
  },
  {
   "cell_type": "code",
   "execution_count": 98,
   "metadata": {},
   "outputs": [
    {
     "name": "stdout",
     "output_type": "stream",
     "text": [
      "0\n",
      "0\n",
      "0\n",
      "273\n",
      "----------\n",
      "0\n",
      "10\n",
      "20\n",
      "30\n"
     ]
    }
   ],
   "source": [
    "value_0_0 = data2_array_transpose[0,0]\n",
    "value_0_1 = data2_array_transpose[0,1]\n",
    "value_0_2 = data2_array_transpose[0,2]\n",
    "value_0_3 = data2_array_transpose[0,3]\n",
    "print(value_0_0)\n",
    "print(value_0_1)\n",
    "print(value_0_2)\n",
    "print(value_0_3)\n",
    "print(\"----------\")\n",
    "value_0_0 = data2_array_transpose[0,0]\n",
    "value_1_0 = data2_array_transpose[1,0]\n",
    "value_2_0 = data2_array_transpose[2,0]\n",
    "value_3_0 = data2_array_transpose[3,0]\n",
    "print(value_0_0)\n",
    "print(value_1_0)\n",
    "print(value_2_0)\n",
    "print(value_3_0)"
   ]
  },
  {
   "cell_type": "code",
   "execution_count": 101,
   "metadata": {},
   "outputs": [
    {
     "name": "stdout",
     "output_type": "stream",
     "text": [
      "[ 0 10 20 30 40 50]\n",
      "[ 0  5 15 20 40 60]\n"
     ]
    }
   ],
   "source": [
    "column_0 = data2_array_transpose[:,0]\n",
    "print(column_0)\n",
    "column_2 = data2_array_transpose[:,2]\n",
    "print(column_2)"
   ]
  },
  {
   "cell_type": "code",
   "execution_count": 106,
   "metadata": {},
   "outputs": [
    {
     "data": {
      "image/png": "[encoded data removed]",
      "text/plain": [
       "<Figure size 432x288 with 1 Axes>"
      ]
     },
     "metadata": {
      "needs_background": "light"
     },
     "output_type": "display_data"
    }
   ],
   "source": [
    "import matplotlib.pyplot as plt\n",
    "plt.plot(column_2, column_0)\n",
    "plt.show()"
   ]
  },
  {
   "cell_type": "code",
   "execution_count": 107,
   "metadata": {},
   "outputs": [
    {
     "data": {
      "image/png": "[encoded data removed]",
      "text/plain": [
       "<Figure size 432x288 with 1 Axes>"
      ]
     },
     "metadata": {
      "needs_background": "light"
     },
     "output_type": "display_data"
    }
   ],
   "source": [
    "d2 = data2_array_transpose\n",
    "t = d2[:,1]\n",
    "temp = d2[:,3]\n",
    "plt.plot(temp,t)\n",
    "plt.show()"
   ]
  },
  {
   "cell_type": "code",
   "execution_count": 109,
   "metadata": {},
   "outputs": [
    {
     "data": {
      "image/png": "[encoded data removed]",
      "text/plain": [
       "<Figure size 432x288 with 1 Axes>"
      ]
     },
     "metadata": {
      "needs_background": "light"
     },
     "output_type": "display_data"
    }
   ],
   "source": [
    "plt.xlabel(\"sec\")\n",
    "plt.ylabel(\"kelvin\")\n",
    "plt.plot(temp,t)\n",
    "plt.show()"
   ]
  },
  {
   "cell_type": "code",
   "execution_count": null,
   "metadata": {},
   "outputs": [],
   "source": []
  }
 ],
 "metadata": {
  "kernelspec": {
   "display_name": "Python 3",
   "language": "python",
   "name": "python3"
  },
  "language_info": {
   "codemirror_mode": {
    "name": "ipython",
    "version": 3
   },
   "file_extension": ".py",
   "mimetype": "text/x-python",
   "name": "python",
   "nbconvert_exporter": "python",
   "pygments_lexer": "ipython3",
   "version": "3.7.3"
  }
 },
 "nbformat": 4,
 "nbformat_minor": 2
}
